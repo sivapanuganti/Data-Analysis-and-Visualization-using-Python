{
 "cells": [
  {
   "cell_type": "code",
   "execution_count": 186,
   "metadata": {},
   "outputs": [],
   "source": [
    "%matplotlib inline\n",
    "import pandas as pd\n",
    "import numpy as np\n",
    "import matplotlib.pyplot as plt\n",
    "import seaborn as sns"
   ]
  },
  {
   "cell_type": "code",
   "execution_count": 142,
   "metadata": {},
   "outputs": [],
   "source": [
    "# Loading the Participant info data\n",
    "p_info= pd.read_excel(\"Humanyze_Internal_Dataset_email.xlsx\")"
   ]
  },
  {
   "cell_type": "code",
   "execution_count": 143,
   "metadata": {},
   "outputs": [],
   "source": [
    "p_info= p_info.replace(np.NaN, \"N\") #Replaced Null values with 'N'"
   ]
  },
  {
   "cell_type": "code",
   "execution_count": 144,
   "metadata": {},
   "outputs": [
    {
     "data": {
      "text/html": [
       "<div>\n",
       "<style>\n",
       "    .dataframe thead tr:only-child th {\n",
       "        text-align: right;\n",
       "    }\n",
       "\n",
       "    .dataframe thead th {\n",
       "        text-align: left;\n",
       "    }\n",
       "\n",
       "    .dataframe tbody tr th {\n",
       "        vertical-align: top;\n",
       "    }\n",
       "</style>\n",
       "<table border=\"1\" class=\"dataframe\">\n",
       "  <thead>\n",
       "    <tr style=\"text-align: right;\">\n",
       "      <th></th>\n",
       "      <th>UserID</th>\n",
       "      <th>Team</th>\n",
       "      <th>Location</th>\n",
       "      <th>Manager?</th>\n",
       "    </tr>\n",
       "  </thead>\n",
       "  <tbody>\n",
       "    <tr>\n",
       "      <th>0</th>\n",
       "      <td>174133</td>\n",
       "      <td>Business</td>\n",
       "      <td>Boston</td>\n",
       "      <td>Y</td>\n",
       "    </tr>\n",
       "    <tr>\n",
       "      <th>1</th>\n",
       "      <td>174134</td>\n",
       "      <td>Business</td>\n",
       "      <td>Boston</td>\n",
       "      <td>Y</td>\n",
       "    </tr>\n",
       "    <tr>\n",
       "      <th>2</th>\n",
       "      <td>174138</td>\n",
       "      <td>Business</td>\n",
       "      <td>Boston</td>\n",
       "      <td>N</td>\n",
       "    </tr>\n",
       "    <tr>\n",
       "      <th>3</th>\n",
       "      <td>174733</td>\n",
       "      <td>Tech DC</td>\n",
       "      <td>Boston</td>\n",
       "      <td>N</td>\n",
       "    </tr>\n",
       "    <tr>\n",
       "      <th>4</th>\n",
       "      <td>174734</td>\n",
       "      <td>Tech DC</td>\n",
       "      <td>Boston</td>\n",
       "      <td>N</td>\n",
       "    </tr>\n",
       "  </tbody>\n",
       "</table>\n",
       "</div>"
      ],
      "text/plain": [
       "   UserID      Team Location Manager?\n",
       "0  174133  Business   Boston        Y\n",
       "1  174134  Business   Boston        Y\n",
       "2  174138  Business   Boston        N\n",
       "3  174733   Tech DC   Boston        N\n",
       "4  174734   Tech DC   Boston        N"
      ]
     },
     "execution_count": 144,
     "metadata": {},
     "output_type": "execute_result"
    }
   ],
   "source": [
    "p_info.head()"
   ]
  },
  {
   "cell_type": "code",
   "execution_count": 145,
   "metadata": {
    "scrolled": true
   },
   "outputs": [
    {
     "data": {
      "text/plain": [
       "227533    1\n",
       "286438    1\n",
       "227538    1\n",
       "298038    1\n",
       "292634    1\n",
       "292633    1\n",
       "281038    1\n",
       "94934     1\n",
       "94933     1\n",
       "174738    1\n",
       "94938     1\n",
       "174734    1\n",
       "174733    1\n",
       "286433    1\n",
       "273034    1\n",
       "273033    1\n",
       "53534     1\n",
       "260338    1\n",
       "292638    1\n",
       "298034    1\n",
       "260833    1\n",
       "286434    1\n",
       "174138    1\n",
       "323233    1\n",
       "227534    1\n",
       "174134    1\n",
       "174133    1\n",
       "234034    1\n",
       "234033    1\n",
       "323238    1\n",
       "273038    1\n",
       "260334    1\n",
       "182838    1\n",
       "323234    1\n",
       "260838    1\n",
       "296638    1\n",
       "234038    1\n",
       "298033    1\n",
       "Name: UserID, dtype: int64"
      ]
     },
     "execution_count": 145,
     "metadata": {},
     "output_type": "execute_result"
    }
   ],
   "source": [
    "p_info[\"UserID\"].value_counts() #Checking if there are multiple data points with same User ID"
   ]
  },
  {
   "cell_type": "code",
   "execution_count": 146,
   "metadata": {},
   "outputs": [
    {
     "data": {
      "text/plain": [
       "Location   Team     \n",
       "Boston     Business      6\n",
       "           Tech DC       9\n",
       "           Tech HYPE     9\n",
       "Palo Alto  Analytics    10\n",
       "           Business      4\n",
       "Name: UserID, dtype: int64"
      ]
     },
     "execution_count": 146,
     "metadata": {},
     "output_type": "execute_result"
    }
   ],
   "source": [
    "p_info_ct=p_info.groupby([\"Location\",\"Team\"])[\"UserID\"].count() #Cross Tab Analysis of Participant Info\n",
    "p_info_ct"
   ]
  },
  {
   "cell_type": "code",
   "execution_count": 147,
   "metadata": {},
   "outputs": [
    {
     "data": {
      "text/plain": [
       "Location   Team       Manager?\n",
       "Boston     Business   N           4\n",
       "                      Y           2\n",
       "           Tech DC    N           7\n",
       "                      Y           2\n",
       "           Tech HYPE  N           7\n",
       "                      Y           2\n",
       "Palo Alto  Analytics  N           7\n",
       "                      Y           3\n",
       "           Business   N           3\n",
       "                      Y           1\n",
       "Name: Manager?, dtype: int64"
      ]
     },
     "execution_count": 147,
     "metadata": {},
     "output_type": "execute_result"
    }
   ],
   "source": [
    "p_info_ct1=p_info.groupby([\"Location\",\"Team\",\"Manager?\"])[\"Manager?\"].count() #Cross Tab Analysis of Participant Info \n",
    "p_info_ct1"
   ]
  },
  {
   "cell_type": "code",
   "execution_count": 148,
   "metadata": {},
   "outputs": [
    {
     "data": {
      "text/plain": [
       "<matplotlib.axes._subplots.AxesSubplot at 0x1acc21dd278>"
      ]
     },
     "execution_count": 148,
     "metadata": {},
     "output_type": "execute_result"
    },
    {
     "data": {
      "image/png": "[encoded data removed]",
      "text/plain": [
       "<matplotlib.figure.Figure at 0x1acc21af438>"
      ]
     },
     "metadata": {},
     "output_type": "display_data"
    }
   ],
   "source": [
    "%matplotlib inline\n",
    "plt.rcParams['figure.figsize'] = (2, 6)\n",
    "plt.rcParams['font.family'] = \"serif\"\n",
    "sns.countplot(data=p_info, x= \"Location\" )\n",
    "# Count plot of number of individuals at each site"
   ]
  },
  {
   "cell_type": "code",
   "execution_count": 150,
   "metadata": {},
   "outputs": [
    {
     "data": {
      "image/png": "[encoded data removed]",
      "text/plain": [
       "<matplotlib.figure.Figure at 0x1acc21ca160>"
      ]
     },
     "metadata": {},
     "output_type": "display_data"
    }
   ],
   "source": [
    "sns.countplot(data=p_info, x= \"Manager?\", hue=\"Location\")\n",
    "plt.rcParams['figure.figsize'] = (4, 6)\n",
    "# Count plot of individuals with/ without managers at each site"
   ]
  },
  {
   "cell_type": "code",
   "execution_count": 152,
   "metadata": {},
   "outputs": [
    {
     "data": {
      "image/png": "[encoded data removed]",
      "text/plain": [
       "<matplotlib.figure.Figure at 0x1acc1e37080>"
      ]
     },
     "metadata": {},
     "output_type": "display_data"
    }
   ],
   "source": [
    "sns.countplot(data=p_info, x= \"Team\", hue=\"Location\", linewidth=2)\n",
    "plt.rcParams['figure.figsize'] = (6,7)\n",
    "#Comparision of count of individuals in different teams at each site"
   ]
  },
  {
   "cell_type": "code",
   "execution_count": 153,
   "metadata": {},
   "outputs": [
    {
     "data": {
      "text/html": [
       "<div>\n",
       "<style>\n",
       "    .dataframe thead tr:only-child th {\n",
       "        text-align: right;\n",
       "    }\n",
       "\n",
       "    .dataframe thead th {\n",
       "        text-align: left;\n",
       "    }\n",
       "\n",
       "    .dataframe tbody tr th {\n",
       "        vertical-align: top;\n",
       "    }\n",
       "</style>\n",
       "<table border=\"1\" class=\"dataframe\">\n",
       "  <thead>\n",
       "    <tr style=\"text-align: right;\">\n",
       "      <th></th>\n",
       "      <th>Date</th>\n",
       "      <th>Sender</th>\n",
       "      <th>Receiver</th>\n",
       "      <th>Receiver type</th>\n",
       "      <th>Count</th>\n",
       "    </tr>\n",
       "  </thead>\n",
       "  <tbody>\n",
       "    <tr>\n",
       "      <th>0</th>\n",
       "      <td>2017-08-15</td>\n",
       "      <td>174138</td>\n",
       "      <td>174133</td>\n",
       "      <td>TO</td>\n",
       "      <td>27</td>\n",
       "    </tr>\n",
       "    <tr>\n",
       "      <th>1</th>\n",
       "      <td>2017-08-16</td>\n",
       "      <td>286434</td>\n",
       "      <td>281038</td>\n",
       "      <td>CC</td>\n",
       "      <td>15</td>\n",
       "    </tr>\n",
       "    <tr>\n",
       "      <th>2</th>\n",
       "      <td>2017-08-15</td>\n",
       "      <td>292633</td>\n",
       "      <td>182838</td>\n",
       "      <td>TO</td>\n",
       "      <td>5</td>\n",
       "    </tr>\n",
       "    <tr>\n",
       "      <th>3</th>\n",
       "      <td>2017-08-12</td>\n",
       "      <td>286438</td>\n",
       "      <td>234034</td>\n",
       "      <td>CC</td>\n",
       "      <td>13</td>\n",
       "    </tr>\n",
       "    <tr>\n",
       "      <th>4</th>\n",
       "      <td>2017-08-16</td>\n",
       "      <td>323238</td>\n",
       "      <td>227533</td>\n",
       "      <td>CC</td>\n",
       "      <td>14</td>\n",
       "    </tr>\n",
       "  </tbody>\n",
       "</table>\n",
       "</div>"
      ],
      "text/plain": [
       "        Date  Sender  Receiver Receiver type  Count\n",
       "0 2017-08-15  174138    174133            TO     27\n",
       "1 2017-08-16  286434    281038            CC     15\n",
       "2 2017-08-15  292633    182838            TO      5\n",
       "3 2017-08-12  286438    234034            CC     13\n",
       "4 2017-08-16  323238    227533            CC     14"
      ]
     },
     "execution_count": 153,
     "metadata": {},
     "output_type": "execute_result"
    }
   ],
   "source": [
    "daily_df= pd.read_excel(\"Daily Email.xlsx\")  #Loading the Daily Email data\n",
    "daily_df.head() "
   ]
  },
  {
   "cell_type": "code",
   "execution_count": 154,
   "metadata": {},
   "outputs": [],
   "source": [
    "#The Daily email data sheet doesn't have information about sender's and receiver's location and Team details.\n",
    "#So, I have Merged Daily email data with Participant info data to get those details.\n",
    "\n",
    "combined_df= pd.merge(daily_df, p_info, how= \"left\", left_on= \"Sender\", right_on=\"UserID\")"
   ]
  },
  {
   "cell_type": "code",
   "execution_count": 155,
   "metadata": {
    "scrolled": true
   },
   "outputs": [
    {
     "data": {
      "text/html": [
       "<div>\n",
       "<style>\n",
       "    .dataframe thead tr:only-child th {\n",
       "        text-align: right;\n",
       "    }\n",
       "\n",
       "    .dataframe thead th {\n",
       "        text-align: left;\n",
       "    }\n",
       "\n",
       "    .dataframe tbody tr th {\n",
       "        vertical-align: top;\n",
       "    }\n",
       "</style>\n",
       "<table border=\"1\" class=\"dataframe\">\n",
       "  <thead>\n",
       "    <tr style=\"text-align: right;\">\n",
       "      <th></th>\n",
       "      <th>Date</th>\n",
       "      <th>Sender</th>\n",
       "      <th>Receiver</th>\n",
       "      <th>Receiver type</th>\n",
       "      <th>Count</th>\n",
       "      <th>UserID</th>\n",
       "      <th>Team</th>\n",
       "      <th>Location</th>\n",
       "      <th>Manager?</th>\n",
       "    </tr>\n",
       "  </thead>\n",
       "  <tbody>\n",
       "    <tr>\n",
       "      <th>0</th>\n",
       "      <td>2017-08-15</td>\n",
       "      <td>174138</td>\n",
       "      <td>174133</td>\n",
       "      <td>TO</td>\n",
       "      <td>27</td>\n",
       "      <td>174138</td>\n",
       "      <td>Business</td>\n",
       "      <td>Boston</td>\n",
       "      <td>N</td>\n",
       "    </tr>\n",
       "    <tr>\n",
       "      <th>1</th>\n",
       "      <td>2017-08-16</td>\n",
       "      <td>286434</td>\n",
       "      <td>281038</td>\n",
       "      <td>CC</td>\n",
       "      <td>15</td>\n",
       "      <td>286434</td>\n",
       "      <td>Analytics</td>\n",
       "      <td>Palo Alto</td>\n",
       "      <td>N</td>\n",
       "    </tr>\n",
       "    <tr>\n",
       "      <th>2</th>\n",
       "      <td>2017-08-15</td>\n",
       "      <td>292633</td>\n",
       "      <td>182838</td>\n",
       "      <td>TO</td>\n",
       "      <td>5</td>\n",
       "      <td>292633</td>\n",
       "      <td>Analytics</td>\n",
       "      <td>Palo Alto</td>\n",
       "      <td>N</td>\n",
       "    </tr>\n",
       "    <tr>\n",
       "      <th>3</th>\n",
       "      <td>2017-08-12</td>\n",
       "      <td>286438</td>\n",
       "      <td>234034</td>\n",
       "      <td>CC</td>\n",
       "      <td>13</td>\n",
       "      <td>286438</td>\n",
       "      <td>Analytics</td>\n",
       "      <td>Palo Alto</td>\n",
       "      <td>N</td>\n",
       "    </tr>\n",
       "    <tr>\n",
       "      <th>4</th>\n",
       "      <td>2017-08-16</td>\n",
       "      <td>323238</td>\n",
       "      <td>227533</td>\n",
       "      <td>CC</td>\n",
       "      <td>14</td>\n",
       "      <td>323238</td>\n",
       "      <td>Tech HYPE</td>\n",
       "      <td>Boston</td>\n",
       "      <td>N</td>\n",
       "    </tr>\n",
       "  </tbody>\n",
       "</table>\n",
       "</div>"
      ],
      "text/plain": [
       "        Date  Sender  Receiver Receiver type  Count  UserID       Team  \\\n",
       "0 2017-08-15  174138    174133            TO     27  174138   Business   \n",
       "1 2017-08-16  286434    281038            CC     15  286434  Analytics   \n",
       "2 2017-08-15  292633    182838            TO      5  292633  Analytics   \n",
       "3 2017-08-12  286438    234034            CC     13  286438  Analytics   \n",
       "4 2017-08-16  323238    227533            CC     14  323238  Tech HYPE   \n",
       "\n",
       "    Location Manager?  \n",
       "0     Boston        N  \n",
       "1  Palo Alto        N  \n",
       "2  Palo Alto        N  \n",
       "3  Palo Alto        N  \n",
       "4     Boston        N  "
      ]
     },
     "execution_count": 155,
     "metadata": {},
     "output_type": "execute_result"
    }
   ],
   "source": [
    "combined_df.head()"
   ]
  },
  {
   "cell_type": "code",
   "execution_count": 156,
   "metadata": {},
   "outputs": [
    {
     "data": {
      "text/html": [
       "<div>\n",
       "<style>\n",
       "    .dataframe thead tr:only-child th {\n",
       "        text-align: right;\n",
       "    }\n",
       "\n",
       "    .dataframe thead th {\n",
       "        text-align: left;\n",
       "    }\n",
       "\n",
       "    .dataframe tbody tr th {\n",
       "        vertical-align: top;\n",
       "    }\n",
       "</style>\n",
       "<table border=\"1\" class=\"dataframe\">\n",
       "  <thead>\n",
       "    <tr style=\"text-align: right;\">\n",
       "      <th></th>\n",
       "      <th>Date</th>\n",
       "      <th>Sender</th>\n",
       "      <th>Receiver</th>\n",
       "      <th>Receiver type</th>\n",
       "      <th>Count</th>\n",
       "      <th>Sender's UserID</th>\n",
       "      <th>Sender's Team</th>\n",
       "      <th>Sender's Location</th>\n",
       "      <th>Manager?</th>\n",
       "    </tr>\n",
       "  </thead>\n",
       "  <tbody>\n",
       "    <tr>\n",
       "      <th>0</th>\n",
       "      <td>2017-08-15</td>\n",
       "      <td>174138</td>\n",
       "      <td>174133</td>\n",
       "      <td>TO</td>\n",
       "      <td>27</td>\n",
       "      <td>174138</td>\n",
       "      <td>Business</td>\n",
       "      <td>Boston</td>\n",
       "      <td>N</td>\n",
       "    </tr>\n",
       "    <tr>\n",
       "      <th>1</th>\n",
       "      <td>2017-08-16</td>\n",
       "      <td>286434</td>\n",
       "      <td>281038</td>\n",
       "      <td>CC</td>\n",
       "      <td>15</td>\n",
       "      <td>286434</td>\n",
       "      <td>Analytics</td>\n",
       "      <td>Palo Alto</td>\n",
       "      <td>N</td>\n",
       "    </tr>\n",
       "    <tr>\n",
       "      <th>2</th>\n",
       "      <td>2017-08-15</td>\n",
       "      <td>292633</td>\n",
       "      <td>182838</td>\n",
       "      <td>TO</td>\n",
       "      <td>5</td>\n",
       "      <td>292633</td>\n",
       "      <td>Analytics</td>\n",
       "      <td>Palo Alto</td>\n",
       "      <td>N</td>\n",
       "    </tr>\n",
       "    <tr>\n",
       "      <th>3</th>\n",
       "      <td>2017-08-12</td>\n",
       "      <td>286438</td>\n",
       "      <td>234034</td>\n",
       "      <td>CC</td>\n",
       "      <td>13</td>\n",
       "      <td>286438</td>\n",
       "      <td>Analytics</td>\n",
       "      <td>Palo Alto</td>\n",
       "      <td>N</td>\n",
       "    </tr>\n",
       "    <tr>\n",
       "      <th>4</th>\n",
       "      <td>2017-08-16</td>\n",
       "      <td>323238</td>\n",
       "      <td>227533</td>\n",
       "      <td>CC</td>\n",
       "      <td>14</td>\n",
       "      <td>323238</td>\n",
       "      <td>Tech HYPE</td>\n",
       "      <td>Boston</td>\n",
       "      <td>N</td>\n",
       "    </tr>\n",
       "  </tbody>\n",
       "</table>\n",
       "</div>"
      ],
      "text/plain": [
       "        Date  Sender  Receiver Receiver type  Count  Sender's UserID  \\\n",
       "0 2017-08-15  174138    174133            TO     27           174138   \n",
       "1 2017-08-16  286434    281038            CC     15           286434   \n",
       "2 2017-08-15  292633    182838            TO      5           292633   \n",
       "3 2017-08-12  286438    234034            CC     13           286438   \n",
       "4 2017-08-16  323238    227533            CC     14           323238   \n",
       "\n",
       "  Sender's Team Sender's Location Manager?  \n",
       "0      Business            Boston        N  \n",
       "1     Analytics         Palo Alto        N  \n",
       "2     Analytics         Palo Alto        N  \n",
       "3     Analytics         Palo Alto        N  \n",
       "4     Tech HYPE            Boston        N  "
      ]
     },
     "execution_count": 156,
     "metadata": {},
     "output_type": "execute_result"
    }
   ],
   "source": [
    "combined_df.rename(columns={\"Team\":\"Sender's Team\",\"Location\":\"Sender's Location\", \"UserID\":\"Sender's UserID\"}, inplace= True)\n",
    "combined_df.head()"
   ]
  },
  {
   "cell_type": "code",
   "execution_count": 157,
   "metadata": {},
   "outputs": [
    {
     "data": {
      "text/html": [
       "<div>\n",
       "<style>\n",
       "    .dataframe thead tr:only-child th {\n",
       "        text-align: right;\n",
       "    }\n",
       "\n",
       "    .dataframe thead th {\n",
       "        text-align: left;\n",
       "    }\n",
       "\n",
       "    .dataframe tbody tr th {\n",
       "        vertical-align: top;\n",
       "    }\n",
       "</style>\n",
       "<table border=\"1\" class=\"dataframe\">\n",
       "  <thead>\n",
       "    <tr style=\"text-align: right;\">\n",
       "      <th></th>\n",
       "      <th>Date</th>\n",
       "      <th>Sender</th>\n",
       "      <th>Receiver</th>\n",
       "      <th>Receiver type</th>\n",
       "      <th>Count</th>\n",
       "      <th>Sender's UserID</th>\n",
       "      <th>Sender's Team</th>\n",
       "      <th>Sender's Location</th>\n",
       "      <th>Manager?_x</th>\n",
       "      <th>UserID</th>\n",
       "      <th>Team</th>\n",
       "      <th>Location</th>\n",
       "      <th>Manager?_y</th>\n",
       "    </tr>\n",
       "  </thead>\n",
       "  <tbody>\n",
       "    <tr>\n",
       "      <th>0</th>\n",
       "      <td>2017-08-15</td>\n",
       "      <td>174138</td>\n",
       "      <td>174133</td>\n",
       "      <td>TO</td>\n",
       "      <td>27</td>\n",
       "      <td>174138</td>\n",
       "      <td>Business</td>\n",
       "      <td>Boston</td>\n",
       "      <td>N</td>\n",
       "      <td>174133</td>\n",
       "      <td>Business</td>\n",
       "      <td>Boston</td>\n",
       "      <td>Y</td>\n",
       "    </tr>\n",
       "    <tr>\n",
       "      <th>1</th>\n",
       "      <td>2017-08-16</td>\n",
       "      <td>286434</td>\n",
       "      <td>281038</td>\n",
       "      <td>CC</td>\n",
       "      <td>15</td>\n",
       "      <td>286434</td>\n",
       "      <td>Analytics</td>\n",
       "      <td>Palo Alto</td>\n",
       "      <td>N</td>\n",
       "      <td>281038</td>\n",
       "      <td>Analytics</td>\n",
       "      <td>Palo Alto</td>\n",
       "      <td>Y</td>\n",
       "    </tr>\n",
       "    <tr>\n",
       "      <th>2</th>\n",
       "      <td>2017-08-15</td>\n",
       "      <td>292633</td>\n",
       "      <td>182838</td>\n",
       "      <td>TO</td>\n",
       "      <td>5</td>\n",
       "      <td>292633</td>\n",
       "      <td>Analytics</td>\n",
       "      <td>Palo Alto</td>\n",
       "      <td>N</td>\n",
       "      <td>182838</td>\n",
       "      <td>Tech DC</td>\n",
       "      <td>Boston</td>\n",
       "      <td>N</td>\n",
       "    </tr>\n",
       "    <tr>\n",
       "      <th>3</th>\n",
       "      <td>2017-08-12</td>\n",
       "      <td>286438</td>\n",
       "      <td>234034</td>\n",
       "      <td>CC</td>\n",
       "      <td>13</td>\n",
       "      <td>286438</td>\n",
       "      <td>Analytics</td>\n",
       "      <td>Palo Alto</td>\n",
       "      <td>N</td>\n",
       "      <td>234034</td>\n",
       "      <td>Tech HYPE</td>\n",
       "      <td>Boston</td>\n",
       "      <td>N</td>\n",
       "    </tr>\n",
       "    <tr>\n",
       "      <th>4</th>\n",
       "      <td>2017-08-16</td>\n",
       "      <td>323238</td>\n",
       "      <td>227533</td>\n",
       "      <td>CC</td>\n",
       "      <td>14</td>\n",
       "      <td>323238</td>\n",
       "      <td>Tech HYPE</td>\n",
       "      <td>Boston</td>\n",
       "      <td>N</td>\n",
       "      <td>227533</td>\n",
       "      <td>Tech DC</td>\n",
       "      <td>Boston</td>\n",
       "      <td>Y</td>\n",
       "    </tr>\n",
       "  </tbody>\n",
       "</table>\n",
       "</div>"
      ],
      "text/plain": [
       "        Date  Sender  Receiver Receiver type  Count  Sender's UserID  \\\n",
       "0 2017-08-15  174138    174133            TO     27           174138   \n",
       "1 2017-08-16  286434    281038            CC     15           286434   \n",
       "2 2017-08-15  292633    182838            TO      5           292633   \n",
       "3 2017-08-12  286438    234034            CC     13           286438   \n",
       "4 2017-08-16  323238    227533            CC     14           323238   \n",
       "\n",
       "  Sender's Team Sender's Location Manager?_x  UserID       Team   Location  \\\n",
       "0      Business            Boston          N  174133   Business     Boston   \n",
       "1     Analytics         Palo Alto          N  281038  Analytics  Palo Alto   \n",
       "2     Analytics         Palo Alto          N  182838    Tech DC     Boston   \n",
       "3     Analytics         Palo Alto          N  234034  Tech HYPE     Boston   \n",
       "4     Tech HYPE            Boston          N  227533    Tech DC     Boston   \n",
       "\n",
       "  Manager?_y  \n",
       "0          Y  \n",
       "1          Y  \n",
       "2          N  \n",
       "3          N  \n",
       "4          Y  "
      ]
     },
     "execution_count": 157,
     "metadata": {},
     "output_type": "execute_result"
    }
   ],
   "source": [
    "combined_df1= pd.merge(combined_df, p_info, how= \"left\", left_on= \"Receiver\", right_on=\"UserID\")\n",
    "combined_df1.head()"
   ]
  },
  {
   "cell_type": "code",
   "execution_count": 158,
   "metadata": {},
   "outputs": [
    {
     "data": {
      "text/html": [
       "<div>\n",
       "<style>\n",
       "    .dataframe thead tr:only-child th {\n",
       "        text-align: right;\n",
       "    }\n",
       "\n",
       "    .dataframe thead th {\n",
       "        text-align: left;\n",
       "    }\n",
       "\n",
       "    .dataframe tbody tr th {\n",
       "        vertical-align: top;\n",
       "    }\n",
       "</style>\n",
       "<table border=\"1\" class=\"dataframe\">\n",
       "  <thead>\n",
       "    <tr style=\"text-align: right;\">\n",
       "      <th></th>\n",
       "      <th>Date</th>\n",
       "      <th>Sender</th>\n",
       "      <th>Receiver</th>\n",
       "      <th>Receiver type</th>\n",
       "      <th>Count</th>\n",
       "      <th>Sender's UserID</th>\n",
       "      <th>Sender's Team</th>\n",
       "      <th>Sender's Location</th>\n",
       "      <th>Receiver's UserID</th>\n",
       "      <th>Receiver's Team</th>\n",
       "      <th>Receiver's Location</th>\n",
       "    </tr>\n",
       "  </thead>\n",
       "  <tbody>\n",
       "    <tr>\n",
       "      <th>0</th>\n",
       "      <td>2017-08-15</td>\n",
       "      <td>174138</td>\n",
       "      <td>174133</td>\n",
       "      <td>TO</td>\n",
       "      <td>27</td>\n",
       "      <td>174138</td>\n",
       "      <td>Business</td>\n",
       "      <td>Boston</td>\n",
       "      <td>174133</td>\n",
       "      <td>Business</td>\n",
       "      <td>Boston</td>\n",
       "    </tr>\n",
       "    <tr>\n",
       "      <th>1</th>\n",
       "      <td>2017-08-16</td>\n",
       "      <td>286434</td>\n",
       "      <td>281038</td>\n",
       "      <td>CC</td>\n",
       "      <td>15</td>\n",
       "      <td>286434</td>\n",
       "      <td>Analytics</td>\n",
       "      <td>Palo Alto</td>\n",
       "      <td>281038</td>\n",
       "      <td>Analytics</td>\n",
       "      <td>Palo Alto</td>\n",
       "    </tr>\n",
       "    <tr>\n",
       "      <th>2</th>\n",
       "      <td>2017-08-15</td>\n",
       "      <td>292633</td>\n",
       "      <td>182838</td>\n",
       "      <td>TO</td>\n",
       "      <td>5</td>\n",
       "      <td>292633</td>\n",
       "      <td>Analytics</td>\n",
       "      <td>Palo Alto</td>\n",
       "      <td>182838</td>\n",
       "      <td>Tech DC</td>\n",
       "      <td>Boston</td>\n",
       "    </tr>\n",
       "    <tr>\n",
       "      <th>3</th>\n",
       "      <td>2017-08-12</td>\n",
       "      <td>286438</td>\n",
       "      <td>234034</td>\n",
       "      <td>CC</td>\n",
       "      <td>13</td>\n",
       "      <td>286438</td>\n",
       "      <td>Analytics</td>\n",
       "      <td>Palo Alto</td>\n",
       "      <td>234034</td>\n",
       "      <td>Tech HYPE</td>\n",
       "      <td>Boston</td>\n",
       "    </tr>\n",
       "    <tr>\n",
       "      <th>4</th>\n",
       "      <td>2017-08-16</td>\n",
       "      <td>323238</td>\n",
       "      <td>227533</td>\n",
       "      <td>CC</td>\n",
       "      <td>14</td>\n",
       "      <td>323238</td>\n",
       "      <td>Tech HYPE</td>\n",
       "      <td>Boston</td>\n",
       "      <td>227533</td>\n",
       "      <td>Tech DC</td>\n",
       "      <td>Boston</td>\n",
       "    </tr>\n",
       "  </tbody>\n",
       "</table>\n",
       "</div>"
      ],
      "text/plain": [
       "        Date  Sender  Receiver Receiver type  Count  Sender's UserID  \\\n",
       "0 2017-08-15  174138    174133            TO     27           174138   \n",
       "1 2017-08-16  286434    281038            CC     15           286434   \n",
       "2 2017-08-15  292633    182838            TO      5           292633   \n",
       "3 2017-08-12  286438    234034            CC     13           286438   \n",
       "4 2017-08-16  323238    227533            CC     14           323238   \n",
       "\n",
       "  Sender's Team Sender's Location  Receiver's UserID Receiver's Team  \\\n",
       "0      Business            Boston             174133        Business   \n",
       "1     Analytics         Palo Alto             281038       Analytics   \n",
       "2     Analytics         Palo Alto             182838         Tech DC   \n",
       "3     Analytics         Palo Alto             234034       Tech HYPE   \n",
       "4     Tech HYPE            Boston             227533         Tech DC   \n",
       "\n",
       "  Receiver's Location  \n",
       "0              Boston  \n",
       "1           Palo Alto  \n",
       "2              Boston  \n",
       "3              Boston  \n",
       "4              Boston  "
      ]
     },
     "execution_count": 158,
     "metadata": {},
     "output_type": "execute_result"
    }
   ],
   "source": [
    "combined_df1.rename(columns={\"Team\":\"Receiver's Team\",\"Location\":\"Receiver's Location\", \"UserID\":\"Receiver's UserID\"}, inplace= True)\n",
    "to_drop= [\"Manager?_x\",\"Manager?_y\"]\n",
    "combined_df2= combined_df1.drop(to_drop, axis=1)\n",
    "combined_df2.head()"
   ]
  },
  {
   "cell_type": "code",
   "execution_count": 159,
   "metadata": {},
   "outputs": [
    {
     "data": {
      "text/html": [
       "<div>\n",
       "<style>\n",
       "    .dataframe thead tr:only-child th {\n",
       "        text-align: right;\n",
       "    }\n",
       "\n",
       "    .dataframe thead th {\n",
       "        text-align: left;\n",
       "    }\n",
       "\n",
       "    .dataframe tbody tr th {\n",
       "        vertical-align: top;\n",
       "    }\n",
       "</style>\n",
       "<table border=\"1\" class=\"dataframe\">\n",
       "  <thead>\n",
       "    <tr style=\"text-align: right;\">\n",
       "      <th></th>\n",
       "      <th>Date</th>\n",
       "      <th>Sender</th>\n",
       "      <th>Receiver</th>\n",
       "      <th>Receiver type</th>\n",
       "      <th>Count</th>\n",
       "      <th>Sender's Team</th>\n",
       "      <th>Sender's Location</th>\n",
       "      <th>Receiver's Team</th>\n",
       "      <th>Receiver's Location</th>\n",
       "    </tr>\n",
       "  </thead>\n",
       "  <tbody>\n",
       "    <tr>\n",
       "      <th>0</th>\n",
       "      <td>2017-08-15</td>\n",
       "      <td>174138</td>\n",
       "      <td>174133</td>\n",
       "      <td>TO</td>\n",
       "      <td>27</td>\n",
       "      <td>Business</td>\n",
       "      <td>Boston</td>\n",
       "      <td>Business</td>\n",
       "      <td>Boston</td>\n",
       "    </tr>\n",
       "    <tr>\n",
       "      <th>1</th>\n",
       "      <td>2017-08-16</td>\n",
       "      <td>286434</td>\n",
       "      <td>281038</td>\n",
       "      <td>CC</td>\n",
       "      <td>15</td>\n",
       "      <td>Analytics</td>\n",
       "      <td>Palo Alto</td>\n",
       "      <td>Analytics</td>\n",
       "      <td>Palo Alto</td>\n",
       "    </tr>\n",
       "    <tr>\n",
       "      <th>2</th>\n",
       "      <td>2017-08-15</td>\n",
       "      <td>292633</td>\n",
       "      <td>182838</td>\n",
       "      <td>TO</td>\n",
       "      <td>5</td>\n",
       "      <td>Analytics</td>\n",
       "      <td>Palo Alto</td>\n",
       "      <td>Tech DC</td>\n",
       "      <td>Boston</td>\n",
       "    </tr>\n",
       "    <tr>\n",
       "      <th>3</th>\n",
       "      <td>2017-08-12</td>\n",
       "      <td>286438</td>\n",
       "      <td>234034</td>\n",
       "      <td>CC</td>\n",
       "      <td>13</td>\n",
       "      <td>Analytics</td>\n",
       "      <td>Palo Alto</td>\n",
       "      <td>Tech HYPE</td>\n",
       "      <td>Boston</td>\n",
       "    </tr>\n",
       "    <tr>\n",
       "      <th>4</th>\n",
       "      <td>2017-08-16</td>\n",
       "      <td>323238</td>\n",
       "      <td>227533</td>\n",
       "      <td>CC</td>\n",
       "      <td>14</td>\n",
       "      <td>Tech HYPE</td>\n",
       "      <td>Boston</td>\n",
       "      <td>Tech DC</td>\n",
       "      <td>Boston</td>\n",
       "    </tr>\n",
       "  </tbody>\n",
       "</table>\n",
       "</div>"
      ],
      "text/plain": [
       "        Date  Sender  Receiver Receiver type  Count Sender's Team  \\\n",
       "0 2017-08-15  174138    174133            TO     27      Business   \n",
       "1 2017-08-16  286434    281038            CC     15     Analytics   \n",
       "2 2017-08-15  292633    182838            TO      5     Analytics   \n",
       "3 2017-08-12  286438    234034            CC     13     Analytics   \n",
       "4 2017-08-16  323238    227533            CC     14     Tech HYPE   \n",
       "\n",
       "  Sender's Location Receiver's Team Receiver's Location  \n",
       "0            Boston        Business              Boston  \n",
       "1         Palo Alto       Analytics           Palo Alto  \n",
       "2         Palo Alto         Tech DC              Boston  \n",
       "3         Palo Alto       Tech HYPE              Boston  \n",
       "4            Boston         Tech DC              Boston  "
      ]
     },
     "execution_count": 159,
     "metadata": {},
     "output_type": "execute_result"
    }
   ],
   "source": [
    "to_drop= [\"Sender's UserID\",\"Receiver's UserID\"]\n",
    "combined_df3= combined_df2.drop(to_drop, axis=1)\n",
    "combined_df3.head() \n",
    "\n",
    "#The data frame below has all the required information for the analysis of Question 2."
   ]
  },
  {
   "cell_type": "code",
   "execution_count": 160,
   "metadata": {},
   "outputs": [
    {
     "data": {
      "text/plain": [
       "Sender's Location  Sender's Team  Receiver's Location  Receiver's Team\n",
       "Boston             Business       Boston               Business            561\n",
       "                                                       Tech DC             518\n",
       "                                                       Tech HYPE           462\n",
       "                                  Palo Alto            Analytics           476\n",
       "                                                       Business            291\n",
       "                   Tech DC        Boston               Business            731\n",
       "                                                       Tech DC            2253\n",
       "                                                       Tech HYPE           831\n",
       "                                  Palo Alto            Analytics           343\n",
       "                                                       Business            135\n",
       "                   Tech HYPE      Boston               Business            630\n",
       "                                                       Tech DC             959\n",
       "                                                       Tech HYPE          1892\n",
       "                                  Palo Alto            Analytics           740\n",
       "                                                       Business            140\n",
       "Palo Alto          Analytics      Boston               Business            206\n",
       "                                                       Tech DC             378\n",
       "                                                       Tech HYPE           777\n",
       "                                  Palo Alto            Analytics          2662\n",
       "                                                       Business            343\n",
       "                   Business       Boston               Business            315\n",
       "                                                       Tech DC             131\n",
       "                                                       Tech HYPE           130\n",
       "                                  Palo Alto            Analytics           593\n",
       "                                                       Business            302\n",
       "Name: Count, dtype: int64"
      ]
     },
     "execution_count": 160,
     "metadata": {},
     "output_type": "execute_result"
    }
   ],
   "source": [
    "#Using group by for crosstab analysis.\n",
    "combined_df3_ct=combined_df3.groupby([\"Sender's Location\",\"Sender's Team\",\"Receiver's Location\", \"Receiver's Team\"])[\"Count\"].sum()\n",
    "combined_df3_ct"
   ]
  },
  {
   "cell_type": "code",
   "execution_count": 187,
   "metadata": {},
   "outputs": [
    {
     "data": {
      "text/plain": [
       "<matplotlib.axes._subplots.AxesSubplot at 0x1acc2149eb8>"
      ]
     },
     "execution_count": 187,
     "metadata": {},
     "output_type": "execute_result"
    },
    {
     "data": {
      "image/png": "[encoded data removed]",
      "text/plain": [
       "<matplotlib.figure.Figure at 0x1acc217dd68>"
      ]
     },
     "metadata": {},
     "output_type": "display_data"
    }
   ],
   "source": [
    "combined_df3_ct.plot(kind='bar',stacked=True,figsize=(8,8))\n",
    "\n",
    "#The following plot visualizes the count of email interactions between teams at each site and across both sites."
   ]
  },
  {
   "cell_type": "code",
   "execution_count": 182,
   "metadata": {},
   "outputs": [
    {
     "name": "stdout",
     "output_type": "stream",
     "text": [
      "Sender's Team  Receiver's Team\n",
      "Tech DC        Tech DC            2253\n",
      "Tech HYPE      Tech HYPE          1892\n",
      "               Tech DC             959\n",
      "Tech DC        Tech HYPE           831\n",
      "               Business            731\n",
      "Tech HYPE      Business            630\n",
      "Business       Business            561\n",
      "               Tech DC             518\n",
      "               Tech HYPE           462\n",
      "Name: Count, dtype: int64\n",
      "Total number of email interactions between individuals at Boston Site: 8837\n"
     ]
    }
   ],
   "source": [
    "Boston_Interaction= combined_df3[(combined_df3[\"Sender's Location\"]=='Boston') & (combined_df3[\"Receiver's Location\"]=='Boston')]\n",
    "Boston_Interaction_ct=Boston_Interaction.groupby([\"Sender's Team\",\"Receiver's Team\"])[\"Count\"].sum().sort_values(ascending=False)\n",
    "print(Boston_Interaction_ct)\n",
    "print(\"Total number of email interactions between individuals at Boston Site:\",(Boston_Interaction.groupby([\"Sender's Team\",\"Receiver's Team\"])[\"Count\"].sum().sort_values(ascending=False)).sum())\n",
    "\n",
    "#The following table details about the email interactions between the individuals and teams at Boston Site."
   ]
  },
  {
   "cell_type": "code",
   "execution_count": 185,
   "metadata": {},
   "outputs": [
    {
     "data": {
      "text/plain": [
       "<matplotlib.axes._subplots.AxesSubplot at 0x1acc1c7ac50>"
      ]
     },
     "execution_count": 185,
     "metadata": {},
     "output_type": "execute_result"
    },
    {
     "data": {
      "image/png": "[encoded data removed]",
      "text/plain": [
       "<matplotlib.figure.Figure at 0x1acc0a2f828>"
      ]
     },
     "metadata": {},
     "output_type": "display_data"
    }
   ],
   "source": [
    "Boston_Interaction_ct.plot(kind='bar',stacked=True,figsize=(6,6))"
   ]
  },
  {
   "cell_type": "code",
   "execution_count": 188,
   "metadata": {},
   "outputs": [
    {
     "name": "stdout",
     "output_type": "stream",
     "text": [
      "Sender's Team  Receiver's Team\n",
      "Analytics      Analytics          2662\n",
      "Business       Analytics           593\n",
      "Analytics      Business            343\n",
      "Business       Business            302\n",
      "Name: Count, dtype: int64\n",
      "Total number of email interactions between individuals at Palo Alto Site: 3900\n"
     ]
    }
   ],
   "source": [
    "PaloAlto_Interaction= combined_df3[(combined_df3[\"Sender's Location\"]=='Palo Alto') & (combined_df3[\"Receiver's Location\"]=='Palo Alto')]\n",
    "PaloAlto_Interaction_ct= PaloAlto_Interaction.groupby([\"Sender's Team\",\"Receiver's Team\"])[\"Count\"].sum().sort_values(ascending=False)\n",
    "print(PaloAlto_Interaction_ct)\n",
    "print(\"Total number of email interactions between individuals at Palo Alto Site:\",PaloAlto_Interaction.groupby([\"Sender's Team\",\"Receiver's Team\"])[\"Count\"].sum().sort_values(ascending=False).sum())\n",
    "#The following table details about the email interactions between the individuals and teams at Palo Alto Site."
   ]
  },
  {
   "cell_type": "code",
   "execution_count": 189,
   "metadata": {},
   "outputs": [
    {
     "data": {
      "text/plain": [
       "<matplotlib.axes._subplots.AxesSubplot at 0x1acc23e2a58>"
      ]
     },
     "execution_count": 189,
     "metadata": {},
     "output_type": "execute_result"
    },
    {
     "data": {
      "image/png": "[encoded data removed]",
      "text/plain": [
       "<matplotlib.figure.Figure at 0x1acc2405ac8>"
      ]
     },
     "metadata": {},
     "output_type": "display_data"
    }
   ],
   "source": [
    "PaloAlto_Interaction_ct.plot(kind='bar',stacked=True,figsize=(6,6))"
   ]
  },
  {
   "cell_type": "code",
   "execution_count": 190,
   "metadata": {},
   "outputs": [
    {
     "name": "stdout",
     "output_type": "stream",
     "text": [
      "Sender's Team  Receiver's Team\n",
      "Tech HYPE      Analytics          740\n",
      "Business       Analytics          476\n",
      "Tech DC        Analytics          343\n",
      "Business       Business           291\n",
      "Tech HYPE      Business           140\n",
      "Tech DC        Business           135\n",
      "Name: Count, dtype: int64\n",
      "Total number of email interactions between Boston and Palo Alto: 2125\n"
     ]
    }
   ],
   "source": [
    "Mixed_Interaction_1=combined_df3[(combined_df3[\"Sender's Location\"]=='Boston') & (combined_df3[\"Receiver's Location\"]=='Palo Alto')]\n",
    "Mixed_Interaction_1ct=Mixed_Interaction_1.groupby([\"Sender's Team\",\"Receiver's Team\"])[\"Count\"].sum().sort_values(ascending=False)\n",
    "print(Mixed_Interaction_1ct)\n",
    "print(\"Total number of email interactions between Boston and Palo Alto:\",Mixed_Interaction_1.groupby([\"Sender's Team\",\"Receiver's Team\"])[\"Count\"].sum().sort_values(ascending=False).sum())\n",
    "\n",
    "#The following table details about the email interactions between the individuals and teams across both the sites-\n",
    "#With Sender at Boston and Reciever at Palo Alto"
   ]
  },
  {
   "cell_type": "code",
   "execution_count": 191,
   "metadata": {},
   "outputs": [
    {
     "data": {
      "text/plain": [
       "<matplotlib.axes._subplots.AxesSubplot at 0x1acc23ffe10>"
      ]
     },
     "execution_count": 191,
     "metadata": {},
     "output_type": "execute_result"
    },
    {
     "data": {
      "image/png": "[encoded data removed]",
      "text/plain": [
       "<matplotlib.figure.Figure at 0x1acc1e26898>"
      ]
     },
     "metadata": {},
     "output_type": "display_data"
    }
   ],
   "source": [
    "Mixed_Interaction_1ct.plot(kind='bar',stacked=True,figsize=(6,6))"
   ]
  },
  {
   "cell_type": "code",
   "execution_count": 193,
   "metadata": {},
   "outputs": [
    {
     "name": "stdout",
     "output_type": "stream",
     "text": [
      "Sender's Team  Receiver's Team\n",
      "Analytics      Tech HYPE          777\n",
      "               Tech DC            378\n",
      "Business       Business           315\n",
      "Analytics      Business           206\n",
      "Business       Tech DC            131\n",
      "               Tech HYPE          130\n",
      "Name: Count, dtype: int64\n",
      "Total number of email interactions between Palo Alto and Boston: 1937\n"
     ]
    }
   ],
   "source": [
    "Mixed_Interaction_2=combined_df3[(combined_df3[\"Sender's Location\"]=='Palo Alto') & (combined_df3[\"Receiver's Location\"]=='Boston')]\n",
    "Mixed_Interaction_2ct= Mixed_Interaction_2.groupby([\"Sender's Team\",\"Receiver's Team\"])[\"Count\"].sum().sort_values(ascending=False)\n",
    "print(Mixed_Interaction_2ct)\n",
    "print(\"Total number of email interactions between Palo Alto and Boston:\",Mixed_Interaction_2.groupby([\"Sender's Team\",\"Receiver's Team\"])[\"Count\"].sum().sort_values(ascending=False).sum())\n",
    "\n",
    "#The following table details about the email interactions between the individuals and teams across both the sites-\n",
    "#With Sender at Palo Alto and Reciever at Boston"
   ]
  },
  {
   "cell_type": "code",
   "execution_count": 194,
   "metadata": {},
   "outputs": [
    {
     "data": {
      "text/plain": [
       "<matplotlib.axes._subplots.AxesSubplot at 0x1acc24beeb8>"
      ]
     },
     "execution_count": 194,
     "metadata": {},
     "output_type": "execute_result"
    },
    {
     "data": {
      "image/png": "[encoded data removed]",
      "text/plain": [
       "<matplotlib.figure.Figure at 0x1acc2183978>"
      ]
     },
     "metadata": {},
     "output_type": "display_data"
    }
   ],
   "source": [
    "Mixed_Interaction_2ct.plot(kind='bar',stacked=True,figsize=(6,6))"
   ]
  }
 ],
 "metadata": {
  "kernelspec": {
   "display_name": "Python 3",
   "language": "python",
   "name": "python3"
  },
  "language_info": {
   "codemirror_mode": {
    "name": "ipython",
    "version": 3
   },
   "file_extension": ".py",
   "mimetype": "text/x-python",
   "name": "python",
   "nbconvert_exporter": "python",
   "pygments_lexer": "ipython3",
   "version": "3.6.2"
  }
 },
 "nbformat": 4,
 "nbformat_minor": 2
}
